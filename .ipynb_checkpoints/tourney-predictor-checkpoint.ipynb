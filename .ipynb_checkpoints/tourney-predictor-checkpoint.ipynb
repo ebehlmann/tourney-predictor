{
 "cells": [
  {
   "cell_type": "markdown",
   "metadata": {
    "_cell_guid": "a8e23b5f-8d06-45e8-9d64-71e05900b252",
    "_uuid": "9853586a0dc75ce39e7c7ffcde1eb4d47c6fb02e"
   },
   "source": [
    "## Overview ##\n",
    "\n",
    "This is a notebook derived from a starter notebook provided by Kaggle. The starter notebook was inspired by last year's [Logistic Regression on Tournament Seeds by Kasper P. Lauritzen](https://www.kaggle.com/kplauritzen/notebookde27b18258?scriptVersionId=804590) starter kernel. It created a basic logistic regression model based on the seed differences between teams. "
   ]
  },
  {
   "cell_type": "code",
   "execution_count": 52,
   "metadata": {
    "_cell_guid": "0c233e05-c63d-4866-96dc-bb38d444bf84",
    "_uuid": "5464dc4b196dc4c8dd0323bbd71b75724113e2af"
   },
   "outputs": [
    {
     "name": "stdout",
     "output_type": "stream",
     "text": [
      "Cities.csv\n",
      "ConferenceTourneyGames.csv\n",
      "Conferences.csv\n",
      "GameCities.csv\n",
      "NCAATourneyCompactResults.csv\n",
      "NCAATourneyDetailedResults.csv\n",
      "NCAATourneySeedRoundSlots.csv\n",
      "NCAATourneySeeds.csv\n",
      "NCAATourneySlots.csv\n",
      "RegularSeasonCompactResults.csv\n",
      "RegularSeasonDetailedResults.csv\n",
      "SampleSubmissionStage1.csv\n",
      "SampleSubmissionStage2_SampleTourney2018.csv\n",
      "Seasons.csv\n",
      "SecondaryTourneyCompactResults.csv\n",
      "SecondaryTourneyTeams.csv\n",
      "TeamCoaches.csv\n",
      "TeamConferences.csv\n",
      "TeamSpellings.csv\n",
      "Teams.csv\n",
      "\n"
     ]
    }
   ],
   "source": [
    "import numpy as np \n",
    "import pandas as pd \n",
    "from sklearn.linear_model import LogisticRegression\n",
    "import matplotlib.pyplot as plt\n",
    "from sklearn.utils import shuffle\n",
    "from sklearn.model_selection import GridSearchCV\n",
    "\n",
    "from subprocess import check_output\n",
    "print(check_output([\"ls\", \"DataFiles\"]).decode(\"utf8\"))\n"
   ]
  },
  {
   "cell_type": "markdown",
   "metadata": {
    "_cell_guid": "e7a5a092-4b50-425a-8373-940fc4932ed8",
    "_uuid": "819472385a23f3fd5aaf4172b4f8db227cf5271f"
   },
   "source": [
    "## Load the training data ##"
   ]
  },
  {
   "cell_type": "code",
   "execution_count": 61,
   "metadata": {
    "_cell_guid": "dc351d31-ff7b-4aeb-a9bc-a017a8cf67e2",
    "_uuid": "bf8ee168a0372e883332d6bb0ce5c89c13143650"
   },
   "outputs": [],
   "source": [
    "data_dir = 'DataFiles/'\n",
    "df_teams = pd.read_csv(data_dir + 'Teams.csv')\n",
    "df_seeds = pd.read_csv(data_dir + 'NCAATourneySeeds.csv')\n",
    "df_tourn = pd.read_csv(data_dir + 'NCAATourneyCompactResults.csv')\n",
    "df_season = pd.read_csv(data_dir + 'RegularSeasonCompactResults.csv')"
   ]
  },
  {
   "cell_type": "code",
   "execution_count": 54,
   "metadata": {},
   "outputs": [
    {
     "data": {
      "text/html": [
       "<div>\n",
       "<style scoped>\n",
       "    .dataframe tbody tr th:only-of-type {\n",
       "        vertical-align: middle;\n",
       "    }\n",
       "\n",
       "    .dataframe tbody tr th {\n",
       "        vertical-align: top;\n",
       "    }\n",
       "\n",
       "    .dataframe thead th {\n",
       "        text-align: right;\n",
       "    }\n",
       "</style>\n",
       "<table border=\"1\" class=\"dataframe\">\n",
       "  <thead>\n",
       "    <tr style=\"text-align: right;\">\n",
       "      <th></th>\n",
       "      <th>TeamID</th>\n",
       "      <th>TeamName</th>\n",
       "      <th>FirstD1Season</th>\n",
       "      <th>LastD1Season</th>\n",
       "    </tr>\n",
       "  </thead>\n",
       "  <tbody>\n",
       "    <tr>\n",
       "      <th>0</th>\n",
       "      <td>1101</td>\n",
       "      <td>Abilene Chr</td>\n",
       "      <td>2014</td>\n",
       "      <td>2018</td>\n",
       "    </tr>\n",
       "    <tr>\n",
       "      <th>1</th>\n",
       "      <td>1102</td>\n",
       "      <td>Air Force</td>\n",
       "      <td>1985</td>\n",
       "      <td>2018</td>\n",
       "    </tr>\n",
       "    <tr>\n",
       "      <th>2</th>\n",
       "      <td>1103</td>\n",
       "      <td>Akron</td>\n",
       "      <td>1985</td>\n",
       "      <td>2018</td>\n",
       "    </tr>\n",
       "    <tr>\n",
       "      <th>3</th>\n",
       "      <td>1104</td>\n",
       "      <td>Alabama</td>\n",
       "      <td>1985</td>\n",
       "      <td>2018</td>\n",
       "    </tr>\n",
       "    <tr>\n",
       "      <th>4</th>\n",
       "      <td>1105</td>\n",
       "      <td>Alabama A&amp;M</td>\n",
       "      <td>2000</td>\n",
       "      <td>2018</td>\n",
       "    </tr>\n",
       "  </tbody>\n",
       "</table>\n",
       "</div>"
      ],
      "text/plain": [
       "   TeamID     TeamName  FirstD1Season  LastD1Season\n",
       "0    1101  Abilene Chr           2014          2018\n",
       "1    1102    Air Force           1985          2018\n",
       "2    1103        Akron           1985          2018\n",
       "3    1104      Alabama           1985          2018\n",
       "4    1105  Alabama A&M           2000          2018"
      ]
     },
     "execution_count": 54,
     "metadata": {},
     "output_type": "execute_result"
    }
   ],
   "source": [
    "df_teams.head()"
   ]
  },
  {
   "cell_type": "code",
   "execution_count": 55,
   "metadata": {
    "_cell_guid": "ce952b2d-93f8-4736-ab54-2f93b08d08ba",
    "_uuid": "9f32e5f9104b7f10d3de7b38d3f292aef045c30f"
   },
   "outputs": [
    {
     "data": {
      "text/html": [
       "<div>\n",
       "<style scoped>\n",
       "    .dataframe tbody tr th:only-of-type {\n",
       "        vertical-align: middle;\n",
       "    }\n",
       "\n",
       "    .dataframe tbody tr th {\n",
       "        vertical-align: top;\n",
       "    }\n",
       "\n",
       "    .dataframe thead th {\n",
       "        text-align: right;\n",
       "    }\n",
       "</style>\n",
       "<table border=\"1\" class=\"dataframe\">\n",
       "  <thead>\n",
       "    <tr style=\"text-align: right;\">\n",
       "      <th></th>\n",
       "      <th>Season</th>\n",
       "      <th>Seed</th>\n",
       "      <th>TeamID</th>\n",
       "    </tr>\n",
       "  </thead>\n",
       "  <tbody>\n",
       "    <tr>\n",
       "      <th>0</th>\n",
       "      <td>1985</td>\n",
       "      <td>W01</td>\n",
       "      <td>1207</td>\n",
       "    </tr>\n",
       "    <tr>\n",
       "      <th>1</th>\n",
       "      <td>1985</td>\n",
       "      <td>W02</td>\n",
       "      <td>1210</td>\n",
       "    </tr>\n",
       "    <tr>\n",
       "      <th>2</th>\n",
       "      <td>1985</td>\n",
       "      <td>W03</td>\n",
       "      <td>1228</td>\n",
       "    </tr>\n",
       "    <tr>\n",
       "      <th>3</th>\n",
       "      <td>1985</td>\n",
       "      <td>W04</td>\n",
       "      <td>1260</td>\n",
       "    </tr>\n",
       "    <tr>\n",
       "      <th>4</th>\n",
       "      <td>1985</td>\n",
       "      <td>W05</td>\n",
       "      <td>1374</td>\n",
       "    </tr>\n",
       "  </tbody>\n",
       "</table>\n",
       "</div>"
      ],
      "text/plain": [
       "   Season Seed  TeamID\n",
       "0    1985  W01    1207\n",
       "1    1985  W02    1210\n",
       "2    1985  W03    1228\n",
       "3    1985  W04    1260\n",
       "4    1985  W05    1374"
      ]
     },
     "execution_count": 55,
     "metadata": {},
     "output_type": "execute_result"
    }
   ],
   "source": [
    "df_seeds.head()"
   ]
  },
  {
   "cell_type": "code",
   "execution_count": 56,
   "metadata": {
    "_cell_guid": "7c28a776-c8fe-4be2-82f6-b5f6c0a27f57",
    "_uuid": "dcb3b4cc84f09ea5af4d52da4fd970928e14bfc1"
   },
   "outputs": [
    {
     "data": {
      "text/html": [
       "<div>\n",
       "<style scoped>\n",
       "    .dataframe tbody tr th:only-of-type {\n",
       "        vertical-align: middle;\n",
       "    }\n",
       "\n",
       "    .dataframe tbody tr th {\n",
       "        vertical-align: top;\n",
       "    }\n",
       "\n",
       "    .dataframe thead th {\n",
       "        text-align: right;\n",
       "    }\n",
       "</style>\n",
       "<table border=\"1\" class=\"dataframe\">\n",
       "  <thead>\n",
       "    <tr style=\"text-align: right;\">\n",
       "      <th></th>\n",
       "      <th>Season</th>\n",
       "      <th>DayNum</th>\n",
       "      <th>WTeamID</th>\n",
       "      <th>WScore</th>\n",
       "      <th>LTeamID</th>\n",
       "      <th>LScore</th>\n",
       "      <th>WLoc</th>\n",
       "      <th>NumOT</th>\n",
       "    </tr>\n",
       "  </thead>\n",
       "  <tbody>\n",
       "    <tr>\n",
       "      <th>0</th>\n",
       "      <td>1985</td>\n",
       "      <td>136</td>\n",
       "      <td>1116</td>\n",
       "      <td>63</td>\n",
       "      <td>1234</td>\n",
       "      <td>54</td>\n",
       "      <td>N</td>\n",
       "      <td>0</td>\n",
       "    </tr>\n",
       "    <tr>\n",
       "      <th>1</th>\n",
       "      <td>1985</td>\n",
       "      <td>136</td>\n",
       "      <td>1120</td>\n",
       "      <td>59</td>\n",
       "      <td>1345</td>\n",
       "      <td>58</td>\n",
       "      <td>N</td>\n",
       "      <td>0</td>\n",
       "    </tr>\n",
       "    <tr>\n",
       "      <th>2</th>\n",
       "      <td>1985</td>\n",
       "      <td>136</td>\n",
       "      <td>1207</td>\n",
       "      <td>68</td>\n",
       "      <td>1250</td>\n",
       "      <td>43</td>\n",
       "      <td>N</td>\n",
       "      <td>0</td>\n",
       "    </tr>\n",
       "    <tr>\n",
       "      <th>3</th>\n",
       "      <td>1985</td>\n",
       "      <td>136</td>\n",
       "      <td>1229</td>\n",
       "      <td>58</td>\n",
       "      <td>1425</td>\n",
       "      <td>55</td>\n",
       "      <td>N</td>\n",
       "      <td>0</td>\n",
       "    </tr>\n",
       "    <tr>\n",
       "      <th>4</th>\n",
       "      <td>1985</td>\n",
       "      <td>136</td>\n",
       "      <td>1242</td>\n",
       "      <td>49</td>\n",
       "      <td>1325</td>\n",
       "      <td>38</td>\n",
       "      <td>N</td>\n",
       "      <td>0</td>\n",
       "    </tr>\n",
       "  </tbody>\n",
       "</table>\n",
       "</div>"
      ],
      "text/plain": [
       "   Season  DayNum  WTeamID  WScore  LTeamID  LScore WLoc  NumOT\n",
       "0    1985     136     1116      63     1234      54    N      0\n",
       "1    1985     136     1120      59     1345      58    N      0\n",
       "2    1985     136     1207      68     1250      43    N      0\n",
       "3    1985     136     1229      58     1425      55    N      0\n",
       "4    1985     136     1242      49     1325      38    N      0"
      ]
     },
     "execution_count": 56,
     "metadata": {},
     "output_type": "execute_result"
    }
   ],
   "source": [
    "df_tourn.head()"
   ]
  },
  {
   "cell_type": "code",
   "execution_count": 57,
   "metadata": {},
   "outputs": [
    {
     "data": {
      "text/html": [
       "<div>\n",
       "<style scoped>\n",
       "    .dataframe tbody tr th:only-of-type {\n",
       "        vertical-align: middle;\n",
       "    }\n",
       "\n",
       "    .dataframe tbody tr th {\n",
       "        vertical-align: top;\n",
       "    }\n",
       "\n",
       "    .dataframe thead th {\n",
       "        text-align: right;\n",
       "    }\n",
       "</style>\n",
       "<table border=\"1\" class=\"dataframe\">\n",
       "  <thead>\n",
       "    <tr style=\"text-align: right;\">\n",
       "      <th></th>\n",
       "      <th>Season</th>\n",
       "      <th>DayNum</th>\n",
       "      <th>WTeamID</th>\n",
       "      <th>WScore</th>\n",
       "      <th>LTeamID</th>\n",
       "      <th>LScore</th>\n",
       "      <th>WLoc</th>\n",
       "      <th>NumOT</th>\n",
       "    </tr>\n",
       "  </thead>\n",
       "  <tbody>\n",
       "    <tr>\n",
       "      <th>0</th>\n",
       "      <td>1985</td>\n",
       "      <td>20</td>\n",
       "      <td>1228</td>\n",
       "      <td>81</td>\n",
       "      <td>1328</td>\n",
       "      <td>64</td>\n",
       "      <td>N</td>\n",
       "      <td>0</td>\n",
       "    </tr>\n",
       "    <tr>\n",
       "      <th>1</th>\n",
       "      <td>1985</td>\n",
       "      <td>25</td>\n",
       "      <td>1106</td>\n",
       "      <td>77</td>\n",
       "      <td>1354</td>\n",
       "      <td>70</td>\n",
       "      <td>H</td>\n",
       "      <td>0</td>\n",
       "    </tr>\n",
       "    <tr>\n",
       "      <th>2</th>\n",
       "      <td>1985</td>\n",
       "      <td>25</td>\n",
       "      <td>1112</td>\n",
       "      <td>63</td>\n",
       "      <td>1223</td>\n",
       "      <td>56</td>\n",
       "      <td>H</td>\n",
       "      <td>0</td>\n",
       "    </tr>\n",
       "    <tr>\n",
       "      <th>3</th>\n",
       "      <td>1985</td>\n",
       "      <td>25</td>\n",
       "      <td>1165</td>\n",
       "      <td>70</td>\n",
       "      <td>1432</td>\n",
       "      <td>54</td>\n",
       "      <td>H</td>\n",
       "      <td>0</td>\n",
       "    </tr>\n",
       "    <tr>\n",
       "      <th>4</th>\n",
       "      <td>1985</td>\n",
       "      <td>25</td>\n",
       "      <td>1192</td>\n",
       "      <td>86</td>\n",
       "      <td>1447</td>\n",
       "      <td>74</td>\n",
       "      <td>H</td>\n",
       "      <td>0</td>\n",
       "    </tr>\n",
       "  </tbody>\n",
       "</table>\n",
       "</div>"
      ],
      "text/plain": [
       "   Season  DayNum  WTeamID  WScore  LTeamID  LScore WLoc  NumOT\n",
       "0    1985      20     1228      81     1328      64    N      0\n",
       "1    1985      25     1106      77     1354      70    H      0\n",
       "2    1985      25     1112      63     1223      56    H      0\n",
       "3    1985      25     1165      70     1432      54    H      0\n",
       "4    1985      25     1192      86     1447      74    H      0"
      ]
     },
     "execution_count": 57,
     "metadata": {},
     "output_type": "execute_result"
    }
   ],
   "source": [
    "df_season.head()"
   ]
  },
  {
   "cell_type": "markdown",
   "metadata": {},
   "source": [
    "## Clean up the data ##"
   ]
  },
  {
   "cell_type": "markdown",
   "metadata": {},
   "source": [
    "Determine regular-season data for each team."
   ]
  },
  {
   "cell_type": "code",
   "execution_count": 62,
   "metadata": {},
   "outputs": [],
   "source": [
    "def get_season_games(season, team, df):\n",
    "    winning_games = df.loc[(df['WTeamID'] == team) & (df['Season'] == season)]\n",
    "    losing_games = df.loc[(df['LTeamID'] == team) & (df['Season'] == season)]\n",
    "    return winning_games, losing_games\n",
    "\n",
    "def get_win_percentage(season, team, df):\n",
    "    winning_games, losing_games = get_season_games(season, team, df)\n",
    "    wins = len(winning_games)\n",
    "    losses = len(losing_games)\n",
    "    return wins / (wins + losses)\n",
    "\n",
    "def get_points(season, team, df):\n",
    "    points = 0\n",
    "    winning_games, losing_games = get_season_games(season, team, df)\n",
    "    points_on_won_games = winning_games['WScore'].sum()\n",
    "    points_on_lost_games = losing_games['LScore'].sum()\n",
    "    return points_on_won_games + points_on_lost_games\n",
    "\n",
    "def get_points_allowed(season, team, df):\n",
    "    points = 0\n",
    "    winning_games, losing_games = get_season_games(season, team, df)\n",
    "    allowed_on_won_games = winning_games['LScore'].sum()\n",
    "    allowed_on_lost_games = losing_games['WScore'].sum()\n",
    "    return allowed_on_won_games + allowed_on_lost_games"
   ]
  },
  {
   "cell_type": "markdown",
   "metadata": {
    "_cell_guid": "28616059-62ee-4ba0-a98a-258fde24fed0",
    "_uuid": "42f99f53dd385e23b09378e0de9d3fce5eb1a2e9"
   },
   "source": [
    "Convert the seedings to the needed format (stripping the regional abbreviation in front of the seed)."
   ]
  },
  {
   "cell_type": "code",
   "execution_count": 63,
   "metadata": {
    "_cell_guid": "953ef29d-dfca-4395-acf0-ad3a01ff5004",
    "_uuid": "fcb18269a41cfa257bd97c40664e43e701251bed"
   },
   "outputs": [
    {
     "data": {
      "text/html": [
       "<div>\n",
       "<style scoped>\n",
       "    .dataframe tbody tr th:only-of-type {\n",
       "        vertical-align: middle;\n",
       "    }\n",
       "\n",
       "    .dataframe tbody tr th {\n",
       "        vertical-align: top;\n",
       "    }\n",
       "\n",
       "    .dataframe thead th {\n",
       "        text-align: right;\n",
       "    }\n",
       "</style>\n",
       "<table border=\"1\" class=\"dataframe\">\n",
       "  <thead>\n",
       "    <tr style=\"text-align: right;\">\n",
       "      <th></th>\n",
       "      <th>Season</th>\n",
       "      <th>TeamID</th>\n",
       "      <th>seed_int</th>\n",
       "      <th>win_percentage</th>\n",
       "      <th>points</th>\n",
       "      <th>points_allowed</th>\n",
       "    </tr>\n",
       "  </thead>\n",
       "  <tbody>\n",
       "    <tr>\n",
       "      <th>2213</th>\n",
       "      <td>2018</td>\n",
       "      <td>1422</td>\n",
       "      <td>13</td>\n",
       "      <td>77.419355</td>\n",
       "      <td>2236</td>\n",
       "      <td>1963</td>\n",
       "    </tr>\n",
       "    <tr>\n",
       "      <th>2214</th>\n",
       "      <td>2018</td>\n",
       "      <td>1285</td>\n",
       "      <td>14</td>\n",
       "      <td>77.419355</td>\n",
       "      <td>2420</td>\n",
       "      <td>2133</td>\n",
       "    </tr>\n",
       "    <tr>\n",
       "      <th>2215</th>\n",
       "      <td>2018</td>\n",
       "      <td>1252</td>\n",
       "      <td>15</td>\n",
       "      <td>68.965517</td>\n",
       "      <td>2345</td>\n",
       "      <td>2276</td>\n",
       "    </tr>\n",
       "    <tr>\n",
       "      <th>2216</th>\n",
       "      <td>2018</td>\n",
       "      <td>1300</td>\n",
       "      <td>16</td>\n",
       "      <td>51.612903</td>\n",
       "      <td>2182</td>\n",
       "      <td>2192</td>\n",
       "    </tr>\n",
       "    <tr>\n",
       "      <th>2217</th>\n",
       "      <td>2018</td>\n",
       "      <td>1411</td>\n",
       "      <td>16</td>\n",
       "      <td>44.117647</td>\n",
       "      <td>2640</td>\n",
       "      <td>2711</td>\n",
       "    </tr>\n",
       "  </tbody>\n",
       "</table>\n",
       "</div>"
      ],
      "text/plain": [
       "      Season  TeamID  seed_int  win_percentage  points  points_allowed\n",
       "2213    2018    1422        13       77.419355    2236            1963\n",
       "2214    2018    1285        14       77.419355    2420            2133\n",
       "2215    2018    1252        15       68.965517    2345            2276\n",
       "2216    2018    1300        16       51.612903    2182            2192\n",
       "2217    2018    1411        16       44.117647    2640            2711"
      ]
     },
     "execution_count": 63,
     "metadata": {},
     "output_type": "execute_result"
    }
   ],
   "source": [
    "def seed_to_int(seed):\n",
    "    #Get just the digits from the seeding. Return as int\n",
    "    s_int = int(seed[1:3])\n",
    "    return s_int\n",
    "\n",
    "df_seeds['seed_int'] = df_seeds.apply(lambda df_seeds: seed_to_int(df_seeds['Seed']), axis=1)\n",
    "df_seeds['win_percentage'] = df_seeds.apply(lambda df_seeds: get_win_percentage(df_seeds['Season'], df_seeds['TeamID'], df_season), axis=1) * 100\n",
    "df_seeds['points'] = df_seeds.apply(lambda df_seeds: get_points(df_seeds['Season'], df_seeds['TeamID'], df_season), axis=1)\n",
    "df_seeds['points_allowed'] = df_seeds.apply(lambda df_seeds: get_points_allowed(df_seeds['Season'], df_seeds['TeamID'], df_season), axis=1)\n",
    "\n",
    "df_seeds.drop(labels=['Seed'], inplace=True, axis=1) # This is the string label\n",
    "\n",
    "df_seeds.tail()"
   ]
  },
  {
   "cell_type": "markdown",
   "metadata": {},
   "source": [
    "Drop unneeded data from tournament dataset."
   ]
  },
  {
   "cell_type": "code",
   "execution_count": 64,
   "metadata": {
    "_cell_guid": "a2ab0238-28a4-4f19-83a9-655fb05fd689",
    "_uuid": "1f6ecb82fa587f5a95a6833cd224b01407f5c90a"
   },
   "outputs": [
    {
     "data": {
      "text/html": [
       "<div>\n",
       "<style scoped>\n",
       "    .dataframe tbody tr th:only-of-type {\n",
       "        vertical-align: middle;\n",
       "    }\n",
       "\n",
       "    .dataframe tbody tr th {\n",
       "        vertical-align: top;\n",
       "    }\n",
       "\n",
       "    .dataframe thead th {\n",
       "        text-align: right;\n",
       "    }\n",
       "</style>\n",
       "<table border=\"1\" class=\"dataframe\">\n",
       "  <thead>\n",
       "    <tr style=\"text-align: right;\">\n",
       "      <th></th>\n",
       "      <th>Season</th>\n",
       "      <th>WTeamID</th>\n",
       "      <th>LTeamID</th>\n",
       "    </tr>\n",
       "  </thead>\n",
       "  <tbody>\n",
       "    <tr>\n",
       "      <th>0</th>\n",
       "      <td>1985</td>\n",
       "      <td>1116</td>\n",
       "      <td>1234</td>\n",
       "    </tr>\n",
       "    <tr>\n",
       "      <th>1</th>\n",
       "      <td>1985</td>\n",
       "      <td>1120</td>\n",
       "      <td>1345</td>\n",
       "    </tr>\n",
       "    <tr>\n",
       "      <th>2</th>\n",
       "      <td>1985</td>\n",
       "      <td>1207</td>\n",
       "      <td>1250</td>\n",
       "    </tr>\n",
       "    <tr>\n",
       "      <th>3</th>\n",
       "      <td>1985</td>\n",
       "      <td>1229</td>\n",
       "      <td>1425</td>\n",
       "    </tr>\n",
       "    <tr>\n",
       "      <th>4</th>\n",
       "      <td>1985</td>\n",
       "      <td>1242</td>\n",
       "      <td>1325</td>\n",
       "    </tr>\n",
       "  </tbody>\n",
       "</table>\n",
       "</div>"
      ],
      "text/plain": [
       "   Season  WTeamID  LTeamID\n",
       "0    1985     1116     1234\n",
       "1    1985     1120     1345\n",
       "2    1985     1207     1250\n",
       "3    1985     1229     1425\n",
       "4    1985     1242     1325"
      ]
     },
     "execution_count": 64,
     "metadata": {},
     "output_type": "execute_result"
    }
   ],
   "source": [
    "df_tourn.drop(labels=['DayNum', 'WScore', 'LScore', 'WLoc', 'NumOT'], inplace=True, axis=1)\n",
    "df_tourn.head()"
   ]
  },
  {
   "cell_type": "markdown",
   "metadata": {
    "_cell_guid": "e66df47b-d756-4a2e-8123-2ca0a8ff3219",
    "_uuid": "3f223cdf4446d6e9c77ab8319237f05393d1a822"
   },
   "source": [
    "## Merge seed for each team ##\n",
    "Merge the Seeds with their corresponding TeamIDs in the compact results dataframe."
   ]
  },
  {
   "cell_type": "code",
   "execution_count": 71,
   "metadata": {
    "_cell_guid": "e20f41f7-5087-4b83-9d4d-2a140dbd2beb",
    "_uuid": "53638c1ae27cfb24d47e02007c293d5ee19ebdac"
   },
   "outputs": [
    {
     "data": {
      "text/html": [
       "<div>\n",
       "<style scoped>\n",
       "    .dataframe tbody tr th:only-of-type {\n",
       "        vertical-align: middle;\n",
       "    }\n",
       "\n",
       "    .dataframe tbody tr th {\n",
       "        vertical-align: top;\n",
       "    }\n",
       "\n",
       "    .dataframe thead th {\n",
       "        text-align: right;\n",
       "    }\n",
       "</style>\n",
       "<table border=\"1\" class=\"dataframe\">\n",
       "  <thead>\n",
       "    <tr style=\"text-align: right;\">\n",
       "      <th></th>\n",
       "      <th>Season</th>\n",
       "      <th>WTeamID</th>\n",
       "      <th>LTeamID</th>\n",
       "      <th>WSeed</th>\n",
       "      <th>win_percentage_x</th>\n",
       "      <th>points_x</th>\n",
       "      <th>points_allowed_x</th>\n",
       "      <th>LSeed</th>\n",
       "      <th>win_percentage_y</th>\n",
       "      <th>points_y</th>\n",
       "      <th>points_allowed_y</th>\n",
       "      <th>SeedDiff</th>\n",
       "      <th>WinPercentageDiff</th>\n",
       "      <th>PointsDiff</th>\n",
       "      <th>PointsAllowedDiff</th>\n",
       "    </tr>\n",
       "  </thead>\n",
       "  <tbody>\n",
       "    <tr>\n",
       "      <th>0</th>\n",
       "      <td>1985</td>\n",
       "      <td>1116</td>\n",
       "      <td>1234</td>\n",
       "      <td>9</td>\n",
       "      <td>63.636364</td>\n",
       "      <td>2156</td>\n",
       "      <td>2036</td>\n",
       "      <td>8</td>\n",
       "      <td>66.666667</td>\n",
       "      <td>2092</td>\n",
       "      <td>1778</td>\n",
       "      <td>1</td>\n",
       "      <td>-3.030303</td>\n",
       "      <td>64</td>\n",
       "      <td>258</td>\n",
       "    </tr>\n",
       "    <tr>\n",
       "      <th>1</th>\n",
       "      <td>1985</td>\n",
       "      <td>1120</td>\n",
       "      <td>1345</td>\n",
       "      <td>11</td>\n",
       "      <td>62.068966</td>\n",
       "      <td>2040</td>\n",
       "      <td>1933</td>\n",
       "      <td>6</td>\n",
       "      <td>68.000000</td>\n",
       "      <td>1728</td>\n",
       "      <td>1633</td>\n",
       "      <td>5</td>\n",
       "      <td>-5.931034</td>\n",
       "      <td>312</td>\n",
       "      <td>300</td>\n",
       "    </tr>\n",
       "    <tr>\n",
       "      <th>2</th>\n",
       "      <td>1985</td>\n",
       "      <td>1207</td>\n",
       "      <td>1250</td>\n",
       "      <td>1</td>\n",
       "      <td>92.592593</td>\n",
       "      <td>2045</td>\n",
       "      <td>1622</td>\n",
       "      <td>16</td>\n",
       "      <td>37.931034</td>\n",
       "      <td>1907</td>\n",
       "      <td>2036</td>\n",
       "      <td>-15</td>\n",
       "      <td>54.661558</td>\n",
       "      <td>138</td>\n",
       "      <td>-414</td>\n",
       "    </tr>\n",
       "    <tr>\n",
       "      <th>3</th>\n",
       "      <td>1985</td>\n",
       "      <td>1229</td>\n",
       "      <td>1425</td>\n",
       "      <td>9</td>\n",
       "      <td>74.074074</td>\n",
       "      <td>1933</td>\n",
       "      <td>1772</td>\n",
       "      <td>8</td>\n",
       "      <td>67.857143</td>\n",
       "      <td>1915</td>\n",
       "      <td>1809</td>\n",
       "      <td>1</td>\n",
       "      <td>6.216931</td>\n",
       "      <td>18</td>\n",
       "      <td>-37</td>\n",
       "    </tr>\n",
       "    <tr>\n",
       "      <th>4</th>\n",
       "      <td>1985</td>\n",
       "      <td>1242</td>\n",
       "      <td>1325</td>\n",
       "      <td>3</td>\n",
       "      <td>76.666667</td>\n",
       "      <td>2281</td>\n",
       "      <td>2112</td>\n",
       "      <td>14</td>\n",
       "      <td>74.074074</td>\n",
       "      <td>1824</td>\n",
       "      <td>1701</td>\n",
       "      <td>-11</td>\n",
       "      <td>2.592593</td>\n",
       "      <td>457</td>\n",
       "      <td>411</td>\n",
       "    </tr>\n",
       "  </tbody>\n",
       "</table>\n",
       "</div>"
      ],
      "text/plain": [
       "   Season  WTeamID  LTeamID  WSeed  win_percentage_x  points_x  \\\n",
       "0    1985     1116     1234      9         63.636364      2156   \n",
       "1    1985     1120     1345     11         62.068966      2040   \n",
       "2    1985     1207     1250      1         92.592593      2045   \n",
       "3    1985     1229     1425      9         74.074074      1933   \n",
       "4    1985     1242     1325      3         76.666667      2281   \n",
       "\n",
       "   points_allowed_x  LSeed  win_percentage_y  points_y  points_allowed_y  \\\n",
       "0              2036      8         66.666667      2092              1778   \n",
       "1              1933      6         68.000000      1728              1633   \n",
       "2              1622     16         37.931034      1907              2036   \n",
       "3              1772      8         67.857143      1915              1809   \n",
       "4              2112     14         74.074074      1824              1701   \n",
       "\n",
       "   SeedDiff  WinPercentageDiff  PointsDiff  PointsAllowedDiff  \n",
       "0         1          -3.030303          64                258  \n",
       "1         5          -5.931034         312                300  \n",
       "2       -15          54.661558         138               -414  \n",
       "3         1           6.216931          18                -37  \n",
       "4       -11           2.592593         457                411  "
      ]
     },
     "execution_count": 71,
     "metadata": {},
     "output_type": "execute_result"
    }
   ],
   "source": [
    "df_winseeds = df_seeds.rename(columns={'TeamID':'WTeamID', 'seed_int':'WSeed'})\n",
    "df_lossseeds = df_seeds.rename(columns={'TeamID':'LTeamID', 'seed_int':'LSeed'})\n",
    "df_dummy = pd.merge(left=df_tourn, right=df_winseeds, how='left', on=['Season', 'WTeamID'])\n",
    "df_concat = pd.merge(left=df_dummy, right=df_lossseeds, on=['Season', 'LTeamID'])\n",
    "df_concat['SeedDiff'] = df_concat.WSeed - df_concat.LSeed\n",
    "df_concat['WinPercentageDiff'] = df_concat.win_percentage_x - df_concat.win_percentage_y\n",
    "df_concat['PointsDiff'] = df_concat.points_x - df_concat.points_y\n",
    "df_concat['PointsAllowedDiff'] = df_concat.points_allowed_x - df_concat.points_allowed_y\n",
    "df_concat.head()"
   ]
  },
  {
   "cell_type": "markdown",
   "metadata": {
    "_cell_guid": "298ec1d6-78c8-4027-b198-159661c7ec6c",
    "_uuid": "1c82f60c02545c8c46ab090cb8cefca48e48e434"
   },
   "source": [
    "Now we'll create a dataframe that summarizes wins & losses along with their corresponding seed differences. This is the meat of what we'll be creating our model on."
   ]
  },
  {
   "cell_type": "code",
   "execution_count": 66,
   "metadata": {
    "_cell_guid": "45339b7a-22f3-4058-9ad1-34e588de91dc",
    "_uuid": "1a40000e85c0dd9d2be6850a767acd736bf5f182"
   },
   "outputs": [
    {
     "data": {
      "text/html": [
       "<div>\n",
       "<style scoped>\n",
       "    .dataframe tbody tr th:only-of-type {\n",
       "        vertical-align: middle;\n",
       "    }\n",
       "\n",
       "    .dataframe tbody tr th {\n",
       "        vertical-align: top;\n",
       "    }\n",
       "\n",
       "    .dataframe thead th {\n",
       "        text-align: right;\n",
       "    }\n",
       "</style>\n",
       "<table border=\"1\" class=\"dataframe\">\n",
       "  <thead>\n",
       "    <tr style=\"text-align: right;\">\n",
       "      <th></th>\n",
       "      <th>SeedDiff</th>\n",
       "      <th>WinPercentageDiff</th>\n",
       "      <th>PointsDiff</th>\n",
       "      <th>PointsAllowedDiff</th>\n",
       "      <th>Result</th>\n",
       "    </tr>\n",
       "  </thead>\n",
       "  <tbody>\n",
       "    <tr>\n",
       "      <th>0</th>\n",
       "      <td>1</td>\n",
       "      <td>-3.030303</td>\n",
       "      <td>64</td>\n",
       "      <td>258</td>\n",
       "      <td>1</td>\n",
       "    </tr>\n",
       "    <tr>\n",
       "      <th>1</th>\n",
       "      <td>5</td>\n",
       "      <td>-5.931034</td>\n",
       "      <td>312</td>\n",
       "      <td>300</td>\n",
       "      <td>1</td>\n",
       "    </tr>\n",
       "    <tr>\n",
       "      <th>2</th>\n",
       "      <td>-15</td>\n",
       "      <td>54.661558</td>\n",
       "      <td>138</td>\n",
       "      <td>-414</td>\n",
       "      <td>1</td>\n",
       "    </tr>\n",
       "    <tr>\n",
       "      <th>3</th>\n",
       "      <td>1</td>\n",
       "      <td>6.216931</td>\n",
       "      <td>18</td>\n",
       "      <td>-37</td>\n",
       "      <td>1</td>\n",
       "    </tr>\n",
       "    <tr>\n",
       "      <th>4</th>\n",
       "      <td>-11</td>\n",
       "      <td>2.592593</td>\n",
       "      <td>457</td>\n",
       "      <td>411</td>\n",
       "      <td>1</td>\n",
       "    </tr>\n",
       "  </tbody>\n",
       "</table>\n",
       "</div>"
      ],
      "text/plain": [
       "   SeedDiff  WinPercentageDiff  PointsDiff  PointsAllowedDiff  Result\n",
       "0         1          -3.030303          64                258       1\n",
       "1         5          -5.931034         312                300       1\n",
       "2       -15          54.661558         138               -414       1\n",
       "3         1           6.216931          18                -37       1\n",
       "4       -11           2.592593         457                411       1"
      ]
     },
     "execution_count": 66,
     "metadata": {},
     "output_type": "execute_result"
    }
   ],
   "source": [
    "df_wins = pd.DataFrame()\n",
    "df_wins['SeedDiff'] = df_concat['SeedDiff']\n",
    "df_wins['WinPercentageDiff'] = df_concat['WinPercentageDiff']\n",
    "df_wins['PointsDiff'] = df_concat['PointsDiff']\n",
    "df_wins['PointsAllowedDiff'] = df_concat['PointsAllowedDiff']\n",
    "df_wins['Result'] = 1\n",
    "\n",
    "df_losses = pd.DataFrame()\n",
    "df_losses['SeedDiff'] = -df_concat['SeedDiff']\n",
    "df_losses['WinPercentageDiff'] = -df_concat['WinPercentageDiff']\n",
    "df_losses['PointsDiff'] = -df_concat['PointsDiff']\n",
    "df_losses['PointsAllowedDiff'] = -df_concat['PointsAllowedDiff']\n",
    "df_losses['Result'] = 0\n",
    "\n",
    "df_predictions = pd.concat((df_wins, df_losses))\n",
    "df_predictions.head()"
   ]
  },
  {
   "cell_type": "code",
   "execution_count": 67,
   "metadata": {
    "_cell_guid": "441a793d-15bf-43b0-8973-94ef8174d6cb",
    "_uuid": "3cf1b39303c44e73a3fa0f813a9580e91eca6b0b"
   },
   "outputs": [
    {
     "name": "stdout",
     "output_type": "stream",
     "text": [
      "Training set has 3387 samples.\n",
      "Testing set has 847 samples.\n"
     ]
    }
   ],
   "source": [
    "outcomes = df_predictions['Result']\n",
    "data = df_predictions.drop('Result', axis = 1)\n",
    "\n",
    "from sklearn.cross_validation import train_test_split\n",
    "\n",
    "X_train, X_test, y_train, y_test = train_test_split(data, outcomes, test_size=0.2, random_state=12)\n",
    "\n",
    "print(\"Training set has {} samples.\".format(X_train.shape[0]))\n",
    "print(\"Testing set has {} samples.\".format(X_test.shape[0]))"
   ]
  },
  {
   "cell_type": "markdown",
   "metadata": {
    "_cell_guid": "caaf0f46-154d-4970-b27f-16391a31f726",
    "_uuid": "563937f42bcccd2bbfb8fc1a66a72a9ca1351f43"
   },
   "source": [
    "## Train the model ##\n",
    "Use a basic logistic regression to train the model. You can set different C values to see how performance changes."
   ]
  },
  {
   "cell_type": "code",
   "execution_count": 68,
   "metadata": {
    "_cell_guid": "6cac6718-fd4f-48d6-b0c7-b71cb9056784",
    "_uuid": "95f817451eae9b72dc237e734e19c929be136d50"
   },
   "outputs": [
    {
     "name": "stdout",
     "output_type": "stream",
     "text": [
      "{'acc_train': 0.7118393858872158, 'acc_test': 0.7119244391971665, 'f_train': 0.7155123068116771, 'f_test': 0.6890547263681593}\n"
     ]
    }
   ],
   "source": [
    "from sklearn.metrics import fbeta_score, accuracy_score\n",
    "\n",
    "def train_predict(learner, X_train, y_train, X_test, y_test): \n",
    "    results = {}\n",
    "    learner = learner.fit(X_train, y_train)\n",
    "    predictions_test = learner.predict(X_test)\n",
    "    predictions_train = learner.predict(X_train)\n",
    "    results['acc_train'] = accuracy_score(y_train, predictions_train)\n",
    "    results['acc_test'] = accuracy_score(y_test, predictions_test)\n",
    "    results['f_train'] = fbeta_score(y_train, predictions_train, 0.5)\n",
    "    results['f_test'] = fbeta_score(y_test, predictions_test, 0.5)\n",
    "    return results\n",
    "\n",
    "logreg = LogisticRegression()\n",
    "params = {'C': np.logspace(start=-5, stop=3, num=9)}\n",
    "#update for logg loss?\n",
    "clf = GridSearchCV(logreg, params, scoring='neg_log_loss', refit=True)\n",
    "\n",
    "results = train_predict(clf, X_train, y_train, X_test, y_test)\n",
    "#clf.fit(X_train, y_train)\n",
    "#print('Best log_loss: {:.4}, with best C: {}'.format(clf.best_score_, clf.best_params_['C']))\n",
    "print(results)"
   ]
  },
  {
   "cell_type": "code",
   "execution_count": 23,
   "metadata": {
    "_cell_guid": "5d447e03-dc15-4367-8f0a-3ba5006dad95",
    "_uuid": "37e01a2b50f69e1f6a0aeaa50c7593d8cae15b1b"
   },
   "outputs": [],
   "source": [
    "#X = np.arange(-1, 1).reshape(-1, 1)\n",
    "#preds = clf.predict_proba(X)[:,1]\n",
    "\n",
    "#plt.plot(X, preds)\n",
    "#plt.xlabel('Team1 seed - Team2 seed')\n",
    "#plt.ylabel('P(Team1 will win)')"
   ]
  },
  {
   "cell_type": "markdown",
   "metadata": {
    "_cell_guid": "322b9f84-2a69-4b85-bf72-8aa084acf75c",
    "_uuid": "3e8270e8638b6f78317b7f787cc0259af682dba7"
   },
   "source": [
    "Plotting validates our intuition, that the probability a team will win decreases as the seed differential to its opponent decreases."
   ]
  },
  {
   "cell_type": "code",
   "execution_count": 69,
   "metadata": {
    "_cell_guid": "d9a18918-1c36-4e9b-a5da-8130d40856e1",
    "_uuid": "cd5a427eca09adda4e9a42a88208b683020a1f8d"
   },
   "outputs": [],
   "source": [
    "df_sample_sub = pd.read_csv(data_dir + 'SampleSubmissionStage2_SampleTourney2018.csv')\n",
    "n_test_games = len(df_sample_sub)\n",
    "\n",
    "def get_year_t1_t2(ID):\n",
    "    \"\"\"Return a tuple with ints `year`, `team1` and `team2`.\"\"\"\n",
    "    return (int(x) for x in ID.split('_'))"
   ]
  },
  {
   "cell_type": "code",
   "execution_count": 78,
   "metadata": {
    "_cell_guid": "ad6e64d7-d411-454e-8c08-4d6300cb4f0e",
    "_uuid": "72d64ebc20c903660108ae9c529be07859396909"
   },
   "outputs": [],
   "source": [
    "X_test = np.zeros(shape=(n_test_games, 4))\n",
    "for ii, row in df_sample_sub.iterrows():\n",
    "    year, t1, t2 = get_year_t1_t2(row.ID)\n",
    "\n",
    "    if len(df_seeds[(df_seeds.TeamID == t1) & (df_seeds.Season == year)].seed_int.values) > 0:\n",
    "        t1_seed = df_seeds[(df_seeds.TeamID == t1) & (df_seeds.Season == year)].seed_int.values[0]\n",
    "        t1_win_percentage = df_seeds[(df_seeds.TeamID == t1) & (df_seeds.Season == year)].win_percentage.values[0]\n",
    "        t1_points = df_seeds[(df_seeds.TeamID == t1) & (df_seeds.Season == year)].points.values[0]\n",
    "        t1_points_allowed = df_seeds[(df_seeds.TeamID == t1) & (df_seeds.Season == year)].points_allowed.values[0]\n",
    "    if len(df_seeds[(df_seeds.TeamID == t2) & (df_seeds.Season == year)].seed_int.values) > 0:\n",
    "        t2_seed = df_seeds[(df_seeds.TeamID == t2) & (df_seeds.Season == year)].seed_int.values[0]\n",
    "        t2_win_percentage = df_seeds[(df_seeds.TeamID == t2) & (df_seeds.Season == year)].win_percentage.values[0]\n",
    "        t2_points = df_seeds[(df_seeds.TeamID == t2) & (df_seeds.Season == year)].points.values[0]\n",
    "        t2_points_allowed = df_seeds[(df_seeds.TeamID == t2) & (df_seeds.Season == year)].points_allowed.values[0]\n",
    "    \n",
    "    diff_seed = t1_seed - t2_seed\n",
    "    diff_win_percentage = t1_win_percentage - t2_win_percentage\n",
    "    diff_points = t1_points - t2_points\n",
    "    diff_points_allowed = t1_points_allowed - t2_points_allowed\n",
    "    \n",
    "    X_test[ii, 0] = diff_seed\n",
    "    X_test[ii, 1] = diff_win_percentage\n",
    "    X_test[ii, 2] = diff_points\n",
    "    X_test[ii, 3] = diff_points_allowed"
   ]
  },
  {
   "cell_type": "markdown",
   "metadata": {
    "_cell_guid": "d926147b-e663-46c1-a350-e2ee4ccd6537",
    "_uuid": "375748512c55520e00ffd5701c82704856478370"
   },
   "source": [
    "## Make Predictions ##\n",
    "Create predictions using the logistic regression model we trained."
   ]
  },
  {
   "cell_type": "code",
   "execution_count": 79,
   "metadata": {
    "_cell_guid": "77ae61ae-3137-4ab3-8279-b55a3b21dcaa",
    "_uuid": "65dc063a2e9c5e447d800556f7cf67b26b7cbedb"
   },
   "outputs": [
    {
     "data": {
      "text/html": [
       "<div>\n",
       "<style scoped>\n",
       "    .dataframe tbody tr th:only-of-type {\n",
       "        vertical-align: middle;\n",
       "    }\n",
       "\n",
       "    .dataframe tbody tr th {\n",
       "        vertical-align: top;\n",
       "    }\n",
       "\n",
       "    .dataframe thead th {\n",
       "        text-align: right;\n",
       "    }\n",
       "</style>\n",
       "<table border=\"1\" class=\"dataframe\">\n",
       "  <thead>\n",
       "    <tr style=\"text-align: right;\">\n",
       "      <th></th>\n",
       "      <th>ID</th>\n",
       "      <th>Pred</th>\n",
       "    </tr>\n",
       "  </thead>\n",
       "  <tbody>\n",
       "    <tr>\n",
       "      <th>2273</th>\n",
       "      <td>2018_1455_1460</td>\n",
       "      <td>0.879010</td>\n",
       "    </tr>\n",
       "    <tr>\n",
       "      <th>2274</th>\n",
       "      <td>2018_1455_1462</td>\n",
       "      <td>0.465584</td>\n",
       "    </tr>\n",
       "    <tr>\n",
       "      <th>2275</th>\n",
       "      <td>2018_1457_1460</td>\n",
       "      <td>0.879010</td>\n",
       "    </tr>\n",
       "    <tr>\n",
       "      <th>2276</th>\n",
       "      <td>2018_1457_1462</td>\n",
       "      <td>0.465584</td>\n",
       "    </tr>\n",
       "    <tr>\n",
       "      <th>2277</th>\n",
       "      <td>2018_1460_1462</td>\n",
       "      <td>0.109852</td>\n",
       "    </tr>\n",
       "  </tbody>\n",
       "</table>\n",
       "</div>"
      ],
      "text/plain": [
       "                  ID      Pred\n",
       "2273  2018_1455_1460  0.879010\n",
       "2274  2018_1455_1462  0.465584\n",
       "2275  2018_1457_1460  0.879010\n",
       "2276  2018_1457_1462  0.465584\n",
       "2277  2018_1460_1462  0.109852"
      ]
     },
     "execution_count": 79,
     "metadata": {},
     "output_type": "execute_result"
    }
   ],
   "source": [
    "preds = clf.predict_proba(X_test)[:,1]\n",
    "\n",
    "clipped_preds = np.clip(preds, 0.05, 0.95)\n",
    "df_sample_sub.Pred = clipped_preds\n",
    "df_sample_sub.tail()"
   ]
  },
  {
   "cell_type": "markdown",
   "metadata": {
    "_cell_guid": "23e4f04d-c0ad-4a1e-8bb9-83e5106a0880",
    "_uuid": "3f4ef6ab893953a811462d240778205c2fdecf97"
   },
   "source": [
    "Lastly, create your submission file!"
   ]
  },
  {
   "cell_type": "code",
   "execution_count": 80,
   "metadata": {
    "_cell_guid": "01b497a3-97c4-4599-85b4-0a073efdf179",
    "_uuid": "7c784a9b62d889e83493b70efa17bd233f9abff4"
   },
   "outputs": [],
   "source": [
    "df_sample_sub.to_csv('logreg_seed_starter.csv', index=False)"
   ]
  },
  {
   "cell_type": "code",
   "execution_count": null,
   "metadata": {},
   "outputs": [],
   "source": []
  }
 ],
 "metadata": {
  "kernelspec": {
   "display_name": "Python 3",
   "language": "python",
   "name": "python3"
  },
  "language_info": {
   "codemirror_mode": {
    "name": "ipython",
    "version": 3
   },
   "file_extension": ".py",
   "mimetype": "text/x-python",
   "name": "python",
   "nbconvert_exporter": "python",
   "pygments_lexer": "ipython3",
   "version": "3.6.4"
  }
 },
 "nbformat": 4,
 "nbformat_minor": 1
}
